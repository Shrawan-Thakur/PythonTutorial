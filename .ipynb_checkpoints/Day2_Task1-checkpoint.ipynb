{
 "cells": [
  {
   "cell_type": "markdown",
   "id": "5acdc94b-e268-4afc-8b78-d876157f2cc1",
   "metadata": {},
   "source": [
    "Task1"
   ]
  },
  {
   "cell_type": "markdown",
   "id": "f09c736e-ce8c-49b6-942d-cdd7ef7a44bc",
   "metadata": {},
   "source": [
    "integer_type_variable=101"
   ]
  },
  {
   "cell_type": "code",
   "execution_count": 21,
   "id": "0564bf01-392c-49e3-8d05-145f3fb8f2c4",
   "metadata": {
    "tags": []
   },
   "outputs": [],
   "source": [
    "list_of_integers=[1,2,3,4,5]"
   ]
  },
  {
   "cell_type": "code",
   "execution_count": 22,
   "id": "24d7871b-2dda-4b29-b5a7-fce47ca749ad",
   "metadata": {
    "tags": []
   },
   "outputs": [],
   "source": [
    "string_type_variable='Str'"
   ]
  },
  {
   "cell_type": "code",
   "execution_count": 23,
   "id": "1e50d2d4-4f32-4b10-88e4-d8390b6ce6eb",
   "metadata": {
    "tags": []
   },
   "outputs": [],
   "source": [
    "list_of_integer_and_string=[1,'Str1',2,'Str2']"
   ]
  },
  {
   "cell_type": "code",
   "execution_count": 24,
   "id": "b46f6d7c-980a-43c8-ae8e-be96955e3796",
   "metadata": {
    "tags": []
   },
   "outputs": [],
   "source": [
    "tuple_of_integers=(2,4,6,7,8,9,10)"
   ]
  },
  {
   "cell_type": "code",
   "execution_count": 26,
   "id": "7f85998a-3d21-42f6-8a5c-9a28d04793ab",
   "metadata": {
    "tags": []
   },
   "outputs": [],
   "source": [
    "set_of_strings={'Str1','Str2','Str3'}"
   ]
  },
  {
   "cell_type": "code",
   "execution_count": 27,
   "id": "4d772a9b-261c-48d4-91ff-4ed9522923d8",
   "metadata": {
    "tags": []
   },
   "outputs": [],
   "source": [
    "list_of_strings=['Str4','Str5','Str6']"
   ]
  },
  {
   "cell_type": "code",
   "execution_count": 28,
   "id": "a2a0b48c-6b08-4881-a045-c9d2c2e71c8f",
   "metadata": {
    "tags": []
   },
   "outputs": [
    {
     "name": "stdout",
     "output_type": "stream",
     "text": [
      "\n",
      "\n",
      "*****Output*****\n"
     ]
    }
   ],
   "source": [
    "print('\\n\\n*****Output*****')"
   ]
  },
  {
   "cell_type": "code",
   "execution_count": 29,
   "id": "96fb8b46-f8bc-4f76-9577-367de3cab6e0",
   "metadata": {
    "tags": []
   },
   "outputs": [
    {
     "name": "stdout",
     "output_type": "stream",
     "text": [
      "101\n"
     ]
    }
   ],
   "source": [
    "print(integer_type_variable)"
   ]
  },
  {
   "cell_type": "code",
   "execution_count": 30,
   "id": "f5878c99-68ba-4d74-8e7c-90da550e5566",
   "metadata": {
    "tags": []
   },
   "outputs": [
    {
     "name": "stdout",
     "output_type": "stream",
     "text": [
      "[1, 2, 3, 4, 5]\n"
     ]
    }
   ],
   "source": [
    "print(list_of_integers)"
   ]
  },
  {
   "cell_type": "code",
   "execution_count": 31,
   "id": "5653c2ec-88ff-4365-a4a5-9192dfef5b9b",
   "metadata": {
    "tags": []
   },
   "outputs": [
    {
     "data": {
      "text/plain": [
       "'Str'"
      ]
     },
     "execution_count": 31,
     "metadata": {},
     "output_type": "execute_result"
    }
   ],
   "source": [
    "string_type_variable"
   ]
  },
  {
   "cell_type": "code",
   "execution_count": 32,
   "id": "a26b8b97-4bac-4dec-b397-2df18810cf18",
   "metadata": {
    "tags": []
   },
   "outputs": [
    {
     "data": {
      "text/plain": [
       "[1, 'Str1', 2, 'Str2']"
      ]
     },
     "execution_count": 32,
     "metadata": {},
     "output_type": "execute_result"
    }
   ],
   "source": [
    "list_of_integer_and_string"
   ]
  },
  {
   "cell_type": "code",
   "execution_count": 33,
   "id": "150ccea1-d506-4cd1-95b9-bca117958112",
   "metadata": {
    "tags": []
   },
   "outputs": [
    {
     "data": {
      "text/plain": [
       "(2, 4, 6, 7, 8, 9, 10)"
      ]
     },
     "execution_count": 33,
     "metadata": {},
     "output_type": "execute_result"
    }
   ],
   "source": [
    "tuple_of_integers"
   ]
  },
  {
   "cell_type": "code",
   "execution_count": 34,
   "id": "709e12fa-c04d-46ae-8f13-7a27b5b1fab4",
   "metadata": {
    "tags": []
   },
   "outputs": [
    {
     "data": {
      "text/plain": [
       "{'Str1', 'Str2', 'Str3'}"
      ]
     },
     "execution_count": 34,
     "metadata": {},
     "output_type": "execute_result"
    }
   ],
   "source": [
    "set_of_strings"
   ]
  },
  {
   "cell_type": "code",
   "execution_count": 35,
   "id": "942a8675-c5ba-4ee1-9ed5-f8486f3b45f2",
   "metadata": {
    "tags": []
   },
   "outputs": [
    {
     "data": {
      "text/plain": [
       "['Str4', 'Str5', 'Str6']"
      ]
     },
     "execution_count": 35,
     "metadata": {},
     "output_type": "execute_result"
    }
   ],
   "source": [
    "list_of_strings"
   ]
  },
  {
   "cell_type": "markdown",
   "id": "c06b2b84-ea56-41b0-b435-9b06798dda07",
   "metadata": {
    "tags": []
   },
   "source": [
    "Task2"
   ]
  },
  {
   "cell_type": "code",
   "execution_count": 39,
   "id": "40b1c8a3-de67-435e-b353-0e5683a43b00",
   "metadata": {
    "tags": []
   },
   "outputs": [],
   "source": [
    "my_dict={1: integer_type_variable, 2: list_of_integers, 3:string_type_variable, 4:list_of_integer_and_string, 5:tuple_of_integers, 6:set_of_strings, 7:list_of_strings}"
   ]
  },
  {
   "cell_type": "code",
   "execution_count": 40,
   "id": "23369cae-cd0d-44ef-81b7-1ab774715c98",
   "metadata": {
    "tags": []
   },
   "outputs": [
    {
     "data": {
      "text/plain": [
       "{1: 101,\n",
       " 2: [1, 2, 3, 4, 5],\n",
       " 3: 'Str',\n",
       " 4: [1, 'Str1', 2, 'Str2'],\n",
       " 5: (2, 4, 6, 7, 8, 9, 10),\n",
       " 6: {'Str1', 'Str2', 'Str3'},\n",
       " 7: ['Str4', 'Str5', 'Str6']}"
      ]
     },
     "execution_count": 40,
     "metadata": {},
     "output_type": "execute_result"
    }
   ],
   "source": [
    "my_dict"
   ]
  },
  {
   "cell_type": "code",
   "execution_count": null,
   "id": "bf1de32c-5204-4381-88c8-8d5a2c2341af",
   "metadata": {},
   "outputs": [],
   "source": []
  }
 ],
 "metadata": {
  "kernelspec": {
   "display_name": "Python 3 (ipykernel)",
   "language": "python",
   "name": "python3"
  },
  "language_info": {
   "codemirror_mode": {
    "name": "ipython",
    "version": 3
   },
   "file_extension": ".py",
   "mimetype": "text/x-python",
   "name": "python",
   "nbconvert_exporter": "python",
   "pygments_lexer": "ipython3",
   "version": "3.11.1"
  }
 },
 "nbformat": 4,
 "nbformat_minor": 5
}
