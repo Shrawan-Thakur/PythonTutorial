{
 "cells": [
  {
   "cell_type": "code",
   "execution_count": 4,
   "id": "b78b2c62-7815-4654-831c-cdd3cbdeaf25",
   "metadata": {
    "tags": []
   },
   "outputs": [
    {
     "data": {
      "text/plain": [
       "'BigPython'"
      ]
     },
     "execution_count": 4,
     "metadata": {},
     "output_type": "execute_result"
    }
   ],
   "source": [
    "def concat(str1, str2):\n",
    "    str=str1+str2\n",
    "    return str\n",
    "concat(\"Big\", \"Python\")"
   ]
  },
  {
   "cell_type": "code",
   "execution_count": 5,
   "id": "ef3dd7cf-fec6-4fc5-a0dc-e5bfec350673",
   "metadata": {
    "tags": []
   },
   "outputs": [
    {
     "data": {
      "text/plain": [
       "'Big Python'"
      ]
     },
     "execution_count": 5,
     "metadata": {},
     "output_type": "execute_result"
    }
   ],
   "source": [
    "def concat_with_space(str1, str2):\n",
    "    str=str1+\" \"+str2\n",
    "    return str\n",
    "concat_with_space(\"Big\", \"Python\")"
   ]
  },
  {
   "cell_type": "code",
   "execution_count": 6,
   "id": "d6b53db4-949c-4de6-9618-4d3864916a22",
   "metadata": {
    "tags": []
   },
   "outputs": [
    {
     "data": {
      "text/plain": [
       "'Big Python'"
      ]
     },
     "execution_count": 6,
     "metadata": {},
     "output_type": "execute_result"
    }
   ],
   "source": [
    "def concat_with_space1(str1, str2):\n",
    "    str=str1+str2\n",
    "    return str\n",
    "concat_with_space1(\"Big\", \" Python\")"
   ]
  },
  {
   "cell_type": "code",
   "execution_count": 7,
   "id": "1873b018-f00c-45e5-a5fc-6c63c541eb8b",
   "metadata": {
    "tags": []
   },
   "outputs": [
    {
     "data": {
      "text/plain": [
       "3"
      ]
     },
     "execution_count": 7,
     "metadata": {},
     "output_type": "execute_result"
    }
   ],
   "source": [
    "def length_diff(str1, str2):\n",
    "    return abs(len(str1)-len(str2))\n",
    "length_diff(\"Big\", \"Python\")"
   ]
  },
  {
   "cell_type": "code",
   "execution_count": 8,
   "id": "e79a7a94-731b-46b5-a0b4-cbecc3234434",
   "metadata": {
    "tags": []
   },
   "outputs": [
    {
     "data": {
      "text/plain": [
       "'please provide non-zero number'"
      ]
     },
     "execution_count": 8,
     "metadata": {},
     "output_type": "execute_result"
    }
   ],
   "source": [
    "import operator\n",
    "ops={'/':operator.truediv}\n",
    "\n",
    "def opeartion_by_supplying_operator(str1, str2, operator_var):\n",
    "    if str2==0:\n",
    "        return ('please provide non-zero number')\n",
    "    result=ops['/'](str1, str2)\n",
    "    return result\n",
    "opeartion_by_supplying_operator(13,0,'/')"
   ]
  },
  {
   "cell_type": "code",
   "execution_count": 13,
   "id": "71e52c8b-7496-4209-8ad7-59eac76ea034",
   "metadata": {},
   "outputs": [
    {
     "data": {
      "text/plain": [
       "2.6"
      ]
     },
     "execution_count": 13,
     "metadata": {},
     "output_type": "execute_result"
    }
   ],
   "source": [
    "opeartion_by_supplying_operator(13,5,'/')"
   ]
  },
  {
   "cell_type": "code",
   "execution_count": null,
   "id": "a4545c7e-0487-406d-a027-a481e2ddcc93",
   "metadata": {},
   "outputs": [],
   "source": []
  }
 ],
 "metadata": {
  "kernelspec": {
   "display_name": "Python 3 (ipykernel)",
   "language": "python",
   "name": "python3"
  },
  "language_info": {
   "codemirror_mode": {
    "name": "ipython",
    "version": 3
   },
   "file_extension": ".py",
   "mimetype": "text/x-python",
   "name": "python",
   "nbconvert_exporter": "python",
   "pygments_lexer": "ipython3",
   "version": "3.11.1"
  }
 },
 "nbformat": 4,
 "nbformat_minor": 5
}
