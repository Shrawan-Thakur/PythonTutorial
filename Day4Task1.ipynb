{
 "cells": [
  {
   "cell_type": "code",
   "execution_count": 4,
   "id": "b78b2c62-7815-4654-831c-cdd3cbdeaf25",
   "metadata": {
    "tags": []
   },
   "outputs": [
    {
     "data": {
      "text/plain": [
       "'Big Python'"
      ]
     },
     "execution_count": 4,
     "metadata": {},
     "output_type": "execute_result"
    }
   ],
   "source": [
    "def concat(str1, str2):\n",
    "    str=str1+str2\n",
    "    return str\n",
    "concat(\"Big\", \"Python\")"
   ]
  },
  {
   "cell_type": "code",
   "execution_count": 5,
   "id": "ef3dd7cf-fec6-4fc5-a0dc-e5bfec350673",
   "metadata": {
    "tags": []
   },
   "outputs": [
    {
     "data": {
      "text/plain": [
       "'Big Python'"
      ]
     },
     "execution_count": 5,
     "metadata": {},
     "output_type": "execute_result"
    }
   ],
   "source": [
    "def concat(str1, str2):\n",
    "    str=str1+\" \"+str2\n",
    "    return str\n",
    "concat(\"Big\", \"Python\")"
   ]
  },
  {
   "cell_type": "code",
   "execution_count": 6,
   "id": "d6b53db4-949c-4de6-9618-4d3864916a22",
   "metadata": {
    "tags": []
   },
   "outputs": [
    {
     "data": {
      "text/plain": [
       "'Big Python'"
      ]
     },
     "execution_count": 6,
     "metadata": {},
     "output_type": "execute_result"
    }
   ],
   "source": [
    "def concat(str1, str2):\n",
    "    str=str1+str2\n",
    "    return str\n",
    "concat(\"Big\", \" Python\")"
   ]
  },
  {
   "cell_type": "code",
   "execution_count": 13,
   "id": "1873b018-f00c-45e5-a5fc-6c63c541eb8b",
   "metadata": {
    "tags": []
   },
   "outputs": [
    {
     "name": "stdout",
     "output_type": "stream",
     "text": [
      "The length of str1 is 3\n",
      "The length of str2 is 6\n"
     ]
    },
    {
     "data": {
      "text/plain": [
       "3"
      ]
     },
     "execution_count": 13,
     "metadata": {},
     "output_type": "execute_result"
    }
   ],
   "source": [
    "def concat(str1, str2):\n",
    "    str1len=len(str1)\n",
    "    str2len=len(str2)\n",
    "    print('The length of str1 is {}'.format(str1len))\n",
    "    print('The length of str2 is {}'.format(str2len))\n",
    "    return abs(str1len-str2len)\n",
    "concat(\"Big\", \"Python\")"
   ]
  },
  {
   "cell_type": "code",
   "execution_count": 23,
   "id": "e79a7a94-731b-46b5-a0b4-cbecc3234434",
   "metadata": {
    "tags": []
   },
   "outputs": [
    {
     "data": {
      "text/plain": [
       "'please provide non-zero number'"
      ]
     },
     "execution_count": 23,
     "metadata": {},
     "output_type": "execute_result"
    }
   ],
   "source": [
    "import operator\n",
    "ops={'/':operator.truediv}\n",
    "\n",
    "def concat(str1, str2, operator_var):\n",
    "    if str2==0:\n",
    "        return ('please provide non-zero number')\n",
    "    result=ops['/'](str1, str2)\n",
    "    return result\n",
    "concat(13,0,'/')"
   ]
  },
  {
   "cell_type": "code",
   "execution_count": null,
   "id": "71e52c8b-7496-4209-8ad7-59eac76ea034",
   "metadata": {},
   "outputs": [],
   "source": []
  }
 ],
 "metadata": {
  "kernelspec": {
   "display_name": "Python 3 (ipykernel)",
   "language": "python",
   "name": "python3"
  },
  "language_info": {
   "codemirror_mode": {
    "name": "ipython",
    "version": 3
   },
   "file_extension": ".py",
   "mimetype": "text/x-python",
   "name": "python",
   "nbconvert_exporter": "python",
   "pygments_lexer": "ipython3",
   "version": "3.11.1"
  }
 },
 "nbformat": 4,
 "nbformat_minor": 5
}
