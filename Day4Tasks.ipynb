{
 "cells": [
  {
   "cell_type": "markdown",
   "id": "8216d363-1fa5-438d-887e-49ef9d926075",
   "metadata": {},
   "source": [
    "### Task1"
   ]
  },
  {
   "cell_type": "code",
   "execution_count": 4,
   "id": "b78b2c62-7815-4654-831c-cdd3cbdeaf25",
   "metadata": {
    "tags": []
   },
   "outputs": [
    {
     "data": {
      "text/plain": [
       "'BigPython'"
      ]
     },
     "execution_count": 4,
     "metadata": {},
     "output_type": "execute_result"
    }
   ],
   "source": [
    "def concat(str1, str2):\n",
    "    str=str1+str2\n",
    "    return str\n",
    "concat(\"Big\", \"Python\")"
   ]
  },
  {
   "cell_type": "markdown",
   "id": "cd57b55c-0416-4110-8979-04fb2be12868",
   "metadata": {
    "tags": []
   },
   "source": [
    "def concat_with_space(str1, str2):\n",
    "    str=str1+\" \"+str2\n",
    "    return str\n",
    "concat_with_space(\"Big\", \"Python\")"
   ]
  },
  {
   "cell_type": "code",
   "execution_count": 6,
   "id": "d6b53db4-949c-4de6-9618-4d3864916a22",
   "metadata": {
    "tags": []
   },
   "outputs": [
    {
     "data": {
      "text/plain": [
       "'Big Python'"
      ]
     },
     "execution_count": 6,
     "metadata": {},
     "output_type": "execute_result"
    }
   ],
   "source": [
    "def concat_with_space1(str1, str2):\n",
    "    str=str1+str2\n",
    "    return str\n",
    "concat_with_space1(\"Big\", \" Python\")"
   ]
  },
  {
   "cell_type": "code",
   "execution_count": 7,
   "id": "1873b018-f00c-45e5-a5fc-6c63c541eb8b",
   "metadata": {
    "tags": []
   },
   "outputs": [
    {
     "data": {
      "text/plain": [
       "3"
      ]
     },
     "execution_count": 7,
     "metadata": {},
     "output_type": "execute_result"
    }
   ],
   "source": [
    "def length_diff(str1, str2):\n",
    "    return abs(len(str1)-len(str2))\n",
    "length_diff(\"Big\", \"Python\")"
   ]
  },
  {
   "cell_type": "code",
   "execution_count": 8,
   "id": "e79a7a94-731b-46b5-a0b4-cbecc3234434",
   "metadata": {
    "tags": []
   },
   "outputs": [
    {
     "data": {
      "text/plain": [
       "'please provide non-zero number'"
      ]
     },
     "execution_count": 8,
     "metadata": {},
     "output_type": "execute_result"
    }
   ],
   "source": [
    "import operator\n",
    "ops={'/':operator.truediv}\n",
    "\n",
    "def opeartion_by_supplying_operator(str1, str2, operator_var):\n",
    "    if str2==0:\n",
    "        return ('please provide non-zero number')\n",
    "    result=ops['/'](str1, str2)\n",
    "    return result\n",
    "opeartion_by_supplying_operator(13,0,'/')"
   ]
  },
  {
   "cell_type": "code",
   "execution_count": 13,
   "id": "71e52c8b-7496-4209-8ad7-59eac76ea034",
   "metadata": {},
   "outputs": [
    {
     "data": {
      "text/plain": [
       "2.6"
      ]
     },
     "execution_count": 13,
     "metadata": {},
     "output_type": "execute_result"
    }
   ],
   "source": [
    "opeartion_by_supplying_operator(13,5,'/')"
   ]
  },
  {
   "cell_type": "markdown",
   "id": "8d3671bd-8d9d-4c61-a811-88b786b46c6e",
   "metadata": {
    "tags": []
   },
   "source": [
    "### Task2"
   ]
  },
  {
   "cell_type": "code",
   "execution_count": 23,
   "id": "05558081-5869-4250-a50f-9eec0ca4208c",
   "metadata": {
    "tags": []
   },
   "outputs": [
    {
     "data": {
      "text/plain": [
       "(5, 9, 9, 10)"
      ]
     },
     "execution_count": 23,
     "metadata": {},
     "output_type": "execute_result"
    }
   ],
   "source": [
    "def max_length_from_each_list(list1, list2, list3, list4):\n",
    "    max_len1=longest_string_length(list1)\n",
    "    max_len2=longest_string_length(list2)\n",
    "    max_len3=longest_string_length(list3)\n",
    "    max_len4=longest_string_length(list4)\n",
    "    \n",
    "    return max_len1, max_len2, max_len3, max_len4\n",
    "def longest_string_length(list_supplied):\n",
    "    max_len=len(list_supplied[0])\n",
    "    for i in range(len(list_supplied)):\n",
    "        if len(list_supplied[i])>max_len:\n",
    "            max_len=len(list_supplied[i])\n",
    "    return max_len\n",
    "\n",
    "    \n",
    "    \n",
    "    \n",
    "list1=['book', 'man', 'woman']\n",
    "list2=['character', 'python', 'location', 'green']\n",
    "list3=['python', 'mumbai', 'melbourne']\n",
    "list4=['parliament', 'sport', 'ecommerce']\n",
    "max_length_from_each_list(list1, list2, list3, list4)"
   ]
  },
  {
   "cell_type": "code",
   "execution_count": null,
   "id": "0d033e28-2324-430d-aea1-84c2ec005c31",
   "metadata": {},
   "outputs": [],
   "source": []
  }
 ],
 "metadata": {
  "kernelspec": {
   "display_name": "Python 3 (ipykernel)",
   "language": "python",
   "name": "python3"
  },
  "language_info": {
   "codemirror_mode": {
    "name": "ipython",
    "version": 3
   },
   "file_extension": ".py",
   "mimetype": "text/x-python",
   "name": "python",
   "nbconvert_exporter": "python",
   "pygments_lexer": "ipython3",
   "version": "3.11.1"
  }
 },
 "nbformat": 4,
 "nbformat_minor": 5
}
