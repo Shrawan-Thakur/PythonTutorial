{
 "cells": [
  {
   "cell_type": "code",
   "execution_count": 1,
   "id": "917994db-e723-4ac2-b2f4-890a78a154a4",
   "metadata": {
    "tags": []
   },
   "outputs": [
    {
     "data": {
      "text/plain": [
       "['milk',\n",
       " 'potato',\n",
       " 'onion',\n",
       " 'tomato',\n",
       " 'cauliflower',\n",
       " \"lady's finger\",\n",
       " 'pea',\n",
       " 'paneer',\n",
       " 'salt',\n",
       " 'bread']"
      ]
     },
     "execution_count": 1,
     "metadata": {},
     "output_type": "execute_result"
    }
   ],
   "source": [
    "list_of_groceries=['milk', 'potato', 'onion', 'tomato', 'cauliflower', 'lady\\'s finger', 'pea', 'paneer', 'salt', 'bread']\n",
    "list_of_groceries"
   ]
  },
  {
   "cell_type": "code",
   "execution_count": 2,
   "id": "6c901d19-7147-433e-9fb4-308878fdc31c",
   "metadata": {
    "tags": []
   },
   "outputs": [
    {
     "data": {
      "text/plain": [
       "{'milk': [1, '1l'],\n",
       " 'potato': [2, '1kg'],\n",
       " 'onion': [1, '1kg'],\n",
       " 'tomato': [1, '1kg'],\n",
       " 'cauliflower': [2, '1kg'],\n",
       " \"lady's finger\": [1, '1kg'],\n",
       " 'pea': [1, '1kg'],\n",
       " 'paneer': [2, '200g'],\n",
       " 'salt': [1, '1kg'],\n",
       " 'bread': [1, 10]}"
      ]
     },
     "execution_count": 2,
     "metadata": {},
     "output_type": "execute_result"
    }
   ],
   "source": [
    "vol_and_sizes_of_groceries={'milk': [1, '1l'], 'potato': [2,'1kg'], 'onion': [1,'1kg'], 'tomato': [1,'1kg'], 'cauliflower': [2,'1kg'], 'lady\\'s finger': [1,'1kg'], 'pea': [1,'1kg'], 'paneer': [2,'200g'], 'salt': [1,'1kg'],     'bread': [1,10]}\n",
    "vol_and_sizes_of_groceries"
   ]
  },
  {
   "cell_type": "code",
   "execution_count": 3,
   "id": "19b0e01d-cb5e-469c-8f63-43975d2f5072",
   "metadata": {
    "tags": []
   },
   "outputs": [],
   "source": [
    "import json\n",
    "json_volume=json.dumps(vol_and_sizes_of_groceries)"
   ]
  },
  {
   "cell_type": "code",
   "execution_count": 4,
   "id": "30be5366-c294-4389-b6bb-7688eeb745a2",
   "metadata": {
    "tags": []
   },
   "outputs": [
    {
     "data": {
      "text/plain": [
       "'{\"milk\": [1, \"1l\"], \"potato\": [2, \"1kg\"], \"onion\": [1, \"1kg\"], \"tomato\": [1, \"1kg\"], \"cauliflower\": [2, \"1kg\"], \"lady\\'s finger\": [1, \"1kg\"], \"pea\": [1, \"1kg\"], \"paneer\": [2, \"200g\"], \"salt\": [1, \"1kg\"], \"bread\": [1, 10]}'"
      ]
     },
     "execution_count": 4,
     "metadata": {},
     "output_type": "execute_result"
    }
   ],
   "source": [
    "json_volume"
   ]
  },
  {
   "cell_type": "code",
   "execution_count": 5,
   "id": "2014801b-8b46-4564-b6b6-e04dab9ca967",
   "metadata": {
    "tags": []
   },
   "outputs": [],
   "source": [
    "item_and_quantity={'milk': 10, 'potato': 10, 'onion': 10, 'tomato': 10, 'cauliflower': 10, 'lady\\'s finger': 10, 'pea': 10, 'paneer': 10, 'flour': 10, 'bread': 10}"
   ]
  },
  {
   "cell_type": "code",
   "execution_count": 6,
   "id": "0e2bfc43-47c4-4a66-aa75-c41e527b11e7",
   "metadata": {
    "tags": []
   },
   "outputs": [
    {
     "data": {
      "text/plain": [
       "{'milk': 10,\n",
       " 'potato': 10,\n",
       " 'onion': 10,\n",
       " 'tomato': 10,\n",
       " 'cauliflower': 10,\n",
       " \"lady's finger\": 10,\n",
       " 'pea': 10,\n",
       " 'paneer': 10,\n",
       " 'flour': 10,\n",
       " 'bread': 10}"
      ]
     },
     "execution_count": 6,
     "metadata": {},
     "output_type": "execute_result"
    }
   ],
   "source": [
    "item_and_quantity"
   ]
  },
  {
   "cell_type": "code",
   "execution_count": 7,
   "id": "1fde83a9-40c6-4d76-85bf-6a7217629ac4",
   "metadata": {
    "tags": []
   },
   "outputs": [
    {
     "data": {
      "text/plain": [
       "{'small': 10, 'medium': 8, 'large': 5}"
      ]
     },
     "execution_count": 7,
     "metadata": {},
     "output_type": "execute_result"
    }
   ],
   "source": [
    "count={'small':10, 'medium':8, 'large':5}\n",
    "count"
   ]
  },
  {
   "cell_type": "code",
   "execution_count": 8,
   "id": "68039388-6c95-41fb-b15d-05b01a4473e7",
   "metadata": {
    "tags": []
   },
   "outputs": [
    {
     "data": {
      "text/plain": [
       "{'salt': {'small': 10, 'medium': 8, 'large': 5},\n",
       " 'milk': 10,\n",
       " 'potato': 10,\n",
       " 'onion': 10,\n",
       " 'tomato': 10,\n",
       " 'cauliflower': 10,\n",
       " \"lady's finger\": 10,\n",
       " 'pea': 10,\n",
       " 'paneer': 10,\n",
       " 'bread': 10}"
      ]
     },
     "execution_count": 8,
     "metadata": {},
     "output_type": "execute_result"
    }
   ],
   "source": [
    "items={'salt':{'small':10, 'medium':8, 'large':5}, 'milk': 10, 'potato': 10, 'onion': 10, 'tomato': 10, 'cauliflower': 10, 'lady\\'s finger': 10, 'pea': 10, 'paneer': 10, 'bread': 10}\n",
    "items"
   ]
  },
  {
   "cell_type": "code",
   "execution_count": 9,
   "id": "52bbdedb-d0db-45c7-825a-4e7f8720c75e",
   "metadata": {
    "tags": []
   },
   "outputs": [],
   "source": [
    "json_items=json.dumps(items)"
   ]
  },
  {
   "cell_type": "code",
   "execution_count": 10,
   "id": "e7b9abbd-6adc-47ca-b081-92ced3561cb3",
   "metadata": {
    "tags": []
   },
   "outputs": [
    {
     "data": {
      "text/plain": [
       "'{\"salt\": {\"small\": 10, \"medium\": 8, \"large\": 5}, \"milk\": 10, \"potato\": 10, \"onion\": 10, \"tomato\": 10, \"cauliflower\": 10, \"lady\\'s finger\": 10, \"pea\": 10, \"paneer\": 10, \"bread\": 10}'"
      ]
     },
     "execution_count": 10,
     "metadata": {},
     "output_type": "execute_result"
    }
   ],
   "source": [
    "json_items"
   ]
  },
  {
   "cell_type": "code",
   "execution_count": 11,
   "id": "280a8d6b-c64c-488d-88ca-959d1ea3d2eb",
   "metadata": {
    "tags": []
   },
   "outputs": [
    {
     "data": {
      "text/plain": [
       "{'salt': {'small': 20, 'medium': 30, 'large': 40},\n",
       " 'milk': 30,\n",
       " 'potato': 20,\n",
       " 'onion': 25,\n",
       " 'tomato': 20,\n",
       " 'cauliflower': 40,\n",
       " \"lady's finger\": 30,\n",
       " 'pea': 50,\n",
       " 'paneer': 80,\n",
       " 'bread': 60}"
      ]
     },
     "execution_count": 11,
     "metadata": {},
     "output_type": "execute_result"
    }
   ],
   "source": [
    "rate_of_items={'salt':{'small':20, 'medium':30, 'large':40}, 'milk': 30, 'potato': 20, 'onion': 25, 'tomato': 20, 'cauliflower': 40, 'lady\\'s finger': 30, 'pea': 50, 'paneer': 80, 'bread': 60}\n",
    "rate_of_items"
   ]
  },
  {
   "cell_type": "code",
   "execution_count": 30,
   "id": "b992688d-4994-4b42-af8d-d6f226194aed",
   "metadata": {
    "tags": []
   },
   "outputs": [],
   "source": [
    "def query():\n",
    "    grocery_name=input(\"What do you want?\")\n",
    "    if grocery_name not in list_of_groceries:\n",
    "        return 'Sorry, this item is out of stock'\n",
    "    size=input(\"Please enter the size: \")\n",
    "    if size not in vol_and_sizes_of_groceries[grocery_name][1]:\n",
    "        return 'Sorry, this size is not available'\n",
    "    quantity=input(\"Please enter the quantity: \")\n",
    "    if vol_and_sizes_of_groceries[grocery_name][1] > quantity:\n",
    "        print(quantity)\n",
    "        print(rate_of_items.get(grocery_name))\n",
    "        print(quantity*rate_of_items.get(grocery_name))\n",
    "        \n",
    " "
   ]
  },
  {
   "cell_type": "code",
   "execution_count": 33,
   "id": "1e84be46-78ad-4b6a-aec3-2bae7a937d51",
   "metadata": {
    "tags": []
   },
   "outputs": [
    {
     "name": "stdin",
     "output_type": "stream",
     "text": [
      "What do you want? onion\n",
      "Please enter the size:  1kg\n",
      "Please enter the quantity:  5\n"
     ]
    },
    {
     "ename": "ValueError",
     "evalue": "invalid literal for int() with base 10: '1kg'",
     "output_type": "error",
     "traceback": [
      "\u001b[0;31m---------------------------------------------------------------------------\u001b[0m",
      "\u001b[0;31mValueError\u001b[0m                                Traceback (most recent call last)",
      "Cell \u001b[0;32mIn[37], line 1\u001b[0m\n\u001b[0;32m----> 1\u001b[0m \u001b[43mquery\u001b[49m\u001b[43m(\u001b[49m\u001b[43m)\u001b[49m\n",
      "Cell \u001b[0;32mIn[36], line 9\u001b[0m, in \u001b[0;36mquery\u001b[0;34m()\u001b[0m\n\u001b[1;32m      7\u001b[0m     \u001b[38;5;28;01mreturn\u001b[39;00m \u001b[38;5;124m'\u001b[39m\u001b[38;5;124mSorry, this size is not available\u001b[39m\u001b[38;5;124m'\u001b[39m\n\u001b[1;32m      8\u001b[0m quantity\u001b[38;5;241m=\u001b[39m\u001b[38;5;28mint\u001b[39m(\u001b[38;5;28minput\u001b[39m(\u001b[38;5;124m\"\u001b[39m\u001b[38;5;124mPlease enter the quantity: \u001b[39m\u001b[38;5;124m\"\u001b[39m))\n\u001b[0;32m----> 9\u001b[0m \u001b[38;5;28;01mif\u001b[39;00m \u001b[38;5;28;43mint\u001b[39;49m\u001b[43m(\u001b[49m\u001b[43mvol_and_sizes_of_groceries\u001b[49m\u001b[43m[\u001b[49m\u001b[43mgrocery_name\u001b[49m\u001b[43m]\u001b[49m\u001b[43m[\u001b[49m\u001b[38;5;241;43m1\u001b[39;49m\u001b[43m]\u001b[49m\u001b[43m)\u001b[49m \u001b[38;5;241m>\u001b[39m quantity:\n\u001b[1;32m     10\u001b[0m     \u001b[38;5;28mprint\u001b[39m(quantity)\n\u001b[1;32m     11\u001b[0m     \u001b[38;5;28mprint\u001b[39m(rate_of_items\u001b[38;5;241m.\u001b[39mget(grocery_name))\n",
      "\u001b[0;31mValueError\u001b[0m: invalid literal for int() with base 10: '1kg'"
     ]
    }
   ],
   "source": [
    "query()"
   ]
  },
  {
   "cell_type": "code",
   "execution_count": null,
   "id": "9ed49780-6a85-4152-af73-e3e547e3984d",
   "metadata": {},
   "outputs": [],
   "source": []
  },
  {
   "cell_type": "code",
   "execution_count": null,
   "id": "eafe4679-253e-446f-9e5a-7c2d9489034a",
   "metadata": {},
   "outputs": [],
   "source": []
  }
 ],
 "metadata": {
  "kernelspec": {
   "display_name": "Python 3 (ipykernel)",
   "language": "python",
   "name": "python3"
  },
  "language_info": {
   "codemirror_mode": {
    "name": "ipython",
    "version": 3
   },
   "file_extension": ".py",
   "mimetype": "text/x-python",
   "name": "python",
   "nbconvert_exporter": "python",
   "pygments_lexer": "ipython3",
   "version": "3.11.1"
  }
 },
 "nbformat": 4,
 "nbformat_minor": 5
}
